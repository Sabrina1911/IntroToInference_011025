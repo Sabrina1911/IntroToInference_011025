{
 "cells": [
  {
   "cell_type": "code",
   "execution_count": 1,
   "id": "012c92ff",
   "metadata": {},
   "outputs": [
    {
     "name": "stdout",
     "output_type": "stream",
     "text": [
      "Shapiro p-values: 0.8478800044350963 0.7675616535134637 0.32706435690809055\n",
      "Levene p-value: 0.6306937778256522\n",
      "ANOVA: F = 8.455 p = 0.0006087712838764671\n",
      "Eta-squared = 0.229\n"
     ]
    }
   ],
   "source": [
    "import numpy as np\n",
    "from scipy import stats\n",
    "np.random.seed(42)\n",
    "\n",
    "# Simulated checkout times (seconds) for 3 designs, n≈20 each\n",
    "A = np.random.normal(loc=72, scale=8, size=20)  # Design A\n",
    "B = np.random.normal(loc=68, scale=7, size=20)  # Design B\n",
    "C = np.random.normal(loc=62, scale=7, size=20)  # Design C\n",
    "\n",
    "# Assumption checks (normality per group; homogeneity of variance)\n",
    "shapiro_A = stats.shapiro(A)\n",
    "shapiro_B = stats.shapiro(B)\n",
    "shapiro_C = stats.shapiro(C)\n",
    "levene_AB = stats.levene(A, B, C)\n",
    "\n",
    "# One-way ANOVA\n",
    "F, p = stats.f_oneway(A, B, C)\n",
    "\n",
    "# Effect size (eta-squared): SS_between / SS_total\n",
    "grand = np.concatenate([A, B, C]).mean()\n",
    "ss_between = len(A)*(A.mean()-grand)**2 + len(B)*(B.mean()-grand)**2 + len(C)*(C.mean()-grand)**2\n",
    "ss_total = ((np.concatenate([A,B,C]) - grand)**2).sum()\n",
    "eta_sq = ss_between / ss_total\n",
    "\n",
    "print(\"Shapiro p-values:\", shapiro_A.pvalue, shapiro_B.pvalue, shapiro_C.pvalue)\n",
    "print(\"Levene p-value:\", levene_AB.pvalue)\n",
    "print(\"ANOVA: F =\", round(F,3), \"p =\", p)\n",
    "print(\"Eta-squared =\", round(eta_sq,3))"
   ]
  },
  {
   "cell_type": "code",
   "execution_count": 2,
   "id": "8c0cf547",
   "metadata": {},
   "outputs": [
    {
     "name": "stdout",
     "output_type": "stream",
     "text": [
      " Multiple Comparison of Means - Tukey HSD, FWER=0.05 \n",
      "=====================================================\n",
      "group1 group2 meandiff p-adj   lower    upper  reject\n",
      "-----------------------------------------------------\n",
      "     A      B  -4.4914 0.0999  -9.6511  0.6682  False\n",
      "     A      C  -8.8164 0.0004 -13.9761 -3.6568   True\n",
      "     B      C   -4.325 0.1173  -9.4847  0.8347  False\n",
      "-----------------------------------------------------\n"
     ]
    }
   ],
   "source": [
    "import pandas as pd\n",
    "import statsmodels.api as sm\n",
    "from statsmodels.stats.multicomp import pairwise_tukeyhsd\n",
    "\n",
    "df = pd.DataFrame({\n",
    "    \"time\": np.concatenate([A, B, C]),\n",
    "    \"design\": ([\"A\"]*len(A))+ ([\"B\"]*len(B)) + ([\"C\"]*len(C))\n",
    "})\n",
    "tukey = pairwise_tukeyhsd(endog=df[\"time\"], groups=df[\"design\"], alpha=0.05)\n",
    "print(tukey)\n"
   ]
  }
 ],
 "metadata": {
  "kernelspec": {
   "display_name": ".venv",
   "language": "python",
   "name": "python3"
  },
  "language_info": {
   "codemirror_mode": {
    "name": "ipython",
    "version": 3
   },
   "file_extension": ".py",
   "mimetype": "text/x-python",
   "name": "python",
   "nbconvert_exporter": "python",
   "pygments_lexer": "ipython3",
   "version": "3.13.1"
  }
 },
 "nbformat": 4,
 "nbformat_minor": 5
}
